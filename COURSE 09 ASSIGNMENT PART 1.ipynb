{
    "cells": [
        {
            "cell_type": "markdown",
            "metadata": {},
            "source": " # WHERE TO EAT???"
        },
        {
            "cell_type": "markdown",
            "metadata": {},
            "source": "## 1.INTRODUCTION"
        },
        {
            "cell_type": "markdown",
            "metadata": {},
            "source": "### 1.1 BACKGROUND"
        },
        {
            "cell_type": "markdown",
            "metadata": {},
            "source": "Jeff Garden, a pastry chef by profession was having a successful caf\u00e9 in Long Island, New York for the last 5 years. His business over there has been running smoothly and he was maintaining it as a family business with his wife."
        },
        {
            "cell_type": "markdown",
            "metadata": {},
            "source": "Unfortunately, the Covid 19 pandemic rushed to the country and the whole USA, most affectively New York hit very hard in every possible way, including the economy."
        },
        {
            "cell_type": "markdown",
            "metadata": {},
            "source": "So Jeff \u2018s caf\u00e9 was also had to close and because of the insecurity in the city, he has planned to change the state and move to Maryland state to live and open a caf\u00e9 over there. Since his relatives live in Rockville, Maryland his initial plan is to move to Rockville. "
        },
        {
            "cell_type": "markdown",
            "metadata": {},
            "source": "### 1.2 THE PROBLEM"
        },
        {
            "cell_type": "markdown",
            "metadata": {},
            "source": "Jeff has been in New York all his life and he does not have any idea about Maryland and he is seeking the help of a Data Scientist to analyze his areas of his interest and seek an area which has a good potential for opening his caf\u00e9. His has given the Data Scientist his requirements very clearly and after analyzing them his main requirement were:"
        },
        {
            "cell_type": "markdown",
            "metadata": {},
            "source": "-\tJeff\u2019s  relatives are living in Rockville, so he prefers to live around Rockville\t"
        },
        {
            "cell_type": "markdown",
            "metadata": {},
            "source": "-\tHe needs the Data Scientist to analyze the areas to look for a best place, which will be either Rockville or a city nearby to open his caf\u00e9."
        },
        {
            "cell_type": "markdown",
            "metadata": {},
            "source": "## 2.DATA ACQUISITION "
        },
        {
            "cell_type": "markdown",
            "metadata": {},
            "source": "### 2.1 DATA SOURCES"
        },
        {
            "cell_type": "markdown",
            "metadata": {},
            "source": "After a study of his interested areas, it was revealed that, among other cities in the Montgomery county, Rockville and Potomac are the first two cities which can cater Jeff\u2019s requirement. So, the objective is to explore the neighborhoods in the above mentioned cities and find the best city and location for Jeff to open his caf\u00e9."
        },
        {
            "cell_type": "markdown",
            "metadata": {},
            "source": "Details regarding the cities can be obtained by the following pages:"
        },
        {
            "cell_type": "markdown",
            "metadata": {},
            "source": "https://en.wikipedia.org/wiki/Rockville,_Maryland  \nhttps://en.wikipedia.org/wiki/Potomac,_Maryland\n"
        },
        {
            "cell_type": "markdown",
            "metadata": {},
            "source": "Scraping data from these websites and using it with the foursquare location data can be used to analyze and explore the cities and help Jeff in finding the best place ever for his caf\u00e9."
        },
        {
            "cell_type": "code",
            "execution_count": null,
            "metadata": {},
            "outputs": [],
            "source": ""
        }
    ],
    "metadata": {
        "kernelspec": {
            "display_name": "Python 3.6",
            "language": "python",
            "name": "python3"
        },
        "language_info": {
            "codemirror_mode": {
                "name": "ipython",
                "version": 3
            },
            "file_extension": ".py",
            "mimetype": "text/x-python",
            "name": "python",
            "nbconvert_exporter": "python",
            "pygments_lexer": "ipython3",
            "version": "3.6.9"
        }
    },
    "nbformat": 4,
    "nbformat_minor": 1
}