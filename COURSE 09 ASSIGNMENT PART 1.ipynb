{
    "cells": [
        {
            "cell_type": "markdown",
            "metadata": {},
            "source": " # WHERE TO EAT???"
        },
        {
            "cell_type": "markdown",
            "metadata": {},
            "source": "## 1.INTRODUCTION"
        },
        {
            "cell_type": "markdown",
            "metadata": {},
            "source": "### 1.1 BACKGROUND"
        },
        {
            "cell_type": "markdown",
            "metadata": {},
            "source": "Jeff Garden, a pastry chef by profession was having a successful caf\u00e9 in Long Island, New York for the last 5 years. His business over there has been running smoothly and he was maintaining it as a family business with his wife."
        },
        {
            "cell_type": "markdown",
            "metadata": {},
            "source": "Unfortunately, the Covid 19 pandemic rushed to the country and the whole USA, most affectively New York hit very hard in every possible way, including the economy."
        },
        {
            "cell_type": "markdown",
            "metadata": {},
            "source": "So Jeff \u2018s caf\u00e9 was also had to close and because of the insecurity in the city, he has planned to change the state and move to Maryland state to live and open a caf\u00e9 over there. Since his relatives live in Rockville, Maryland his initial plan is to move to Rockville. "
        },
        {
            "cell_type": "markdown",
            "metadata": {},
            "source": "### 1.2 THE PROBLEM"
        },
        {
            "cell_type": "markdown",
            "metadata": {},
            "source": "Jeff has been in New York all his life and he does not have any idea about Maryland and he is seeking the help of a Data Scientist to analyze his areas of his interest and seek an area which has a good potential for opening his caf\u00e9. His has given the Data Scientist his requirements very clearly and after analyzing them his main requirement were:"
        },
        {
            "cell_type": "markdown",
            "metadata": {},
            "source": "-\tJeff\u2019s  relatives are living in Rockville, so he prefers to live around Rockville\t"
        },
        {
            "cell_type": "markdown",
            "metadata": {},
            "source": "-\tHe needs the Data Scientist to analyze the areas to look for a best place, which will be either Rockville or a city nearby to open his caf\u00e9."
        },
        {
            "cell_type": "markdown",
            "metadata": {},
            "source": "## 2.DATA ACQUISITION "
        },
        {
            "cell_type": "markdown",
            "metadata": {},
            "source": "### 2.1 DATA SOURCES"
        },
        {
            "cell_type": "markdown",
            "metadata": {},
            "source": "After a study of his interested areas, it was revealed that, among other cities in the Montgomery county, Rockville and Potomac are the first two cities which can cater Jeff\u2019s requirement. So, the objective is to explore the neighborhoods in the above mentioned cities and find the best city and location for Jeff to open his caf\u00e9."
        },
        {
            "cell_type": "markdown",
            "metadata": {},
            "source": "Details regarding the cities can be obtained by the following pages:"
        },
        {
            "cell_type": "markdown",
            "metadata": {},
            "source": "https://en.wikipedia.org/wiki/Rockville,_Maryland  \nhttps://en.wikipedia.org/wiki/Potomac,_Maryland\n"
        },
        {
            "cell_type": "markdown",
            "metadata": {},
            "source": "Scraping data from these websites and using it with the foursquare location data can be used to analyze and explore the cities and help Jeff in finding the best place ever for his caf\u00e9."
        },
        {
            "cell_type": "code",
            "execution_count": 1,
            "metadata": {},
            "outputs": [
                {
                    "name": "stdout",
                    "output_type": "stream",
                    "text": "Solving environment: done\n\n## Package Plan ##\n\n  environment location: /opt/conda/envs/Python36\n\n  added / updated specs: \n    - geopy\n\n\nThe following packages will be downloaded:\n\n    package                    |            build\n    ---------------------------|-----------------\n    certifi-2020.4.5.2         |   py36h9f0ad1d_0         152 KB  conda-forge\n    geographiclib-1.50         |             py_0          34 KB  conda-forge\n    python_abi-3.6             |          1_cp36m           4 KB  conda-forge\n    ca-certificates-2020.4.5.2 |       hecda079_0         147 KB  conda-forge\n    geopy-1.22.0               |     pyh9f0ad1d_0          63 KB  conda-forge\n    openssl-1.1.1g             |       h516909a_0         2.1 MB  conda-forge\n    ------------------------------------------------------------\n                                           Total:         2.5 MB\n\nThe following NEW packages will be INSTALLED:\n\n    geographiclib:   1.50-py_0           conda-forge\n    geopy:           1.22.0-pyh9f0ad1d_0 conda-forge\n    python_abi:      3.6-1_cp36m         conda-forge\n\nThe following packages will be UPDATED:\n\n    ca-certificates: 2020.1.1-0                      --> 2020.4.5.2-hecda079_0     conda-forge\n    certifi:         2020.4.5.1-py36_0               --> 2020.4.5.2-py36h9f0ad1d_0 conda-forge\n    openssl:         1.1.1g-h7b6447c_0               --> 1.1.1g-h516909a_0         conda-forge\n\n\nDownloading and Extracting Packages\ncertifi-2020.4.5.2   | 152 KB    | ##################################### | 100% \ngeographiclib-1.50   | 34 KB     | ##################################### | 100% \npython_abi-3.6       | 4 KB      | ##################################### | 100% \nca-certificates-2020 | 147 KB    | ##################################### | 100% \ngeopy-1.22.0         | 63 KB     | ##################################### | 100% \nopenssl-1.1.1g       | 2.1 MB    | ##################################### | 100% \nPreparing transaction: done\nVerifying transaction: done\nExecuting transaction: done\nSolving environment: done\n\n## Package Plan ##\n\n  environment location: /opt/conda/envs/Python36\n\n  added / updated specs: \n    - folium=0.5.0\n\n\nThe following packages will be downloaded:\n\n    package                    |            build\n    ---------------------------|-----------------\n    folium-0.5.0               |             py_0          45 KB  conda-forge\n    vincent-0.4.4              |             py_1          28 KB  conda-forge\n    altair-4.1.0               |             py_1         614 KB  conda-forge\n    branca-0.4.1               |             py_0          26 KB  conda-forge\n    ------------------------------------------------------------\n                                           Total:         713 KB\n\nThe following NEW packages will be INSTALLED:\n\n    altair:  4.1.0-py_1 conda-forge\n    branca:  0.4.1-py_0 conda-forge\n    folium:  0.5.0-py_0 conda-forge\n    vincent: 0.4.4-py_1 conda-forge\n\n\nDownloading and Extracting Packages\nfolium-0.5.0         | 45 KB     | ##################################### | 100% \nvincent-0.4.4        | 28 KB     | ##################################### | 100% \naltair-4.1.0         | 614 KB    | ##################################### | 100% \nbranca-0.4.1         | 26 KB     | ##################################### | 100% \nPreparing transaction: done\nVerifying transaction: done\nExecuting transaction: done\nLibraries imported.\n"
                }
            ],
            "source": "import numpy as np # library to handle data in a vectorized manner\n\nimport pandas as pd # library for data analsysis\npd.set_option('display.max_columns', None)\npd.set_option('display.max_rows', None)\n\nimport json # library to handle JSON files\n\n!conda install -c conda-forge geopy --yes # uncomment this line if you haven't completed the Foursquare API lab\nfrom geopy.geocoders import Nominatim # convert an address into latitude and longitude values\n\nimport requests # library to handle requests\nfrom pandas.io.json import json_normalize # tranform JSON file into a pandas dataframe\n\n# Matplotlib and associated plotting modules\nimport matplotlib.cm as cm\nimport matplotlib.colors as colors\n\n# import k-means from clustering stage\nfrom sklearn.cluster import KMeans\n\n!conda install -c conda-forge folium=0.5.0 --yes # uncomment this line if you haven't completed the Foursquare API lab\nimport folium # map rendering library\n\nprint('Libraries imported.')"
        },
        {
            "cell_type": "code",
            "execution_count": 2,
            "metadata": {},
            "outputs": [
                {
                    "name": "stdout",
                    "output_type": "stream",
                    "text": "The geograpical coordinate of Rockville are 39.0840054, -77.1527573.\n"
                }
            ],
            "source": "address = 'Rockville,MD'\n\ngeolocator = Nominatim(user_agent=\"ny_explorer\")\nlocation = geolocator.geocode(address)\nlatitude = location.latitude\nlongitude = location.longitude\nprint('The geograpical coordinate of Rockville are {}, {}.'.format(latitude, longitude))"
        },
        {
            "cell_type": "code",
            "execution_count": 3,
            "metadata": {},
            "outputs": [
                {
                    "data": {
                        "text/html": "<div>\n<style scoped>\n    .dataframe tbody tr th:only-of-type {\n        vertical-align: middle;\n    }\n\n    .dataframe tbody tr th {\n        vertical-align: top;\n    }\n\n    .dataframe thead th {\n        text-align: right;\n    }\n</style>\n<table border=\"1\" class=\"dataframe\">\n  <thead>\n    <tr style=\"text-align: right;\">\n      <th></th>\n      <th>Zip;City;State;Latitude;Longitude;Timezone;Daylight savings time flag;geopoint</th>\n    </tr>\n  </thead>\n  <tbody>\n    <tr>\n      <th>71937;Cove;AR;34.398483;-94.39398;-6;1;34.398483</th>\n      <td>-94.39398</td>\n    </tr>\n    <tr>\n      <th>72044;Edgemont;AR;35.624351;-92.16056;-6;1;35.624351</th>\n      <td>-92.16056</td>\n    </tr>\n    <tr>\n      <th>56171;Sherburn;MN;43.660847;-94.74357;-6;1;43.660847</th>\n      <td>-94.74357</td>\n    </tr>\n    <tr>\n      <th>49430;Lamont;MI;43.010337;-85.89754;-5;1;43.010337</th>\n      <td>-85.89754</td>\n    </tr>\n    <tr>\n      <th>52585;Richland;IA;41.194129;-91.98027;-6;1;41.194129</th>\n      <td>-91.98027</td>\n    </tr>\n  </tbody>\n</table>\n</div>",
                        "text/plain": "                                                    Zip;City;State;Latitude;Longitude;Timezone;Daylight savings time flag;geopoint\n71937;Cove;AR;34.398483;-94.39398;-6;1;34.398483                                            -94.39398                             \n72044;Edgemont;AR;35.624351;-92.16056;-6;1;35.6...                                          -92.16056                             \n56171;Sherburn;MN;43.660847;-94.74357;-6;1;43.6...                                          -94.74357                             \n49430;Lamont;MI;43.010337;-85.89754;-5;1;43.010337                                          -85.89754                             \n52585;Richland;IA;41.194129;-91.98027;-6;1;41.1...                                          -91.98027                             "
                    },
                    "execution_count": 3,
                    "metadata": {},
                    "output_type": "execute_result"
                }
            ],
            "source": "df_zip=pd.read_csv ('https://public.opendatasoft.com/explore/dataset/us-zip-code-latitude-and-longitude/download/?format=csv&timezone=America/New_York&lang=en&use_labels_for_header=true&csv_separator=%3B')\ndf_zip.head()"
        },
        {
            "cell_type": "code",
            "execution_count": 14,
            "metadata": {},
            "outputs": [
                {
                    "ename": "KeyError",
                    "evalue": "'Latitude'",
                    "output_type": "error",
                    "traceback": [
                        "\u001b[0;31m---------------------------------------------------------------------------\u001b[0m",
                        "\u001b[0;31mKeyError\u001b[0m                                  Traceback (most recent call last)",
                        "\u001b[0;32m/opt/conda/envs/Python36/lib/python3.6/site-packages/pandas/core/indexes/base.py\u001b[0m in \u001b[0;36mget_loc\u001b[0;34m(self, key, method, tolerance)\u001b[0m\n\u001b[1;32m   2655\u001b[0m             \u001b[0;32mtry\u001b[0m\u001b[0;34m:\u001b[0m\u001b[0;34m\u001b[0m\u001b[0;34m\u001b[0m\u001b[0m\n\u001b[0;32m-> 2656\u001b[0;31m                 \u001b[0;32mreturn\u001b[0m \u001b[0mself\u001b[0m\u001b[0;34m.\u001b[0m\u001b[0m_engine\u001b[0m\u001b[0;34m.\u001b[0m\u001b[0mget_loc\u001b[0m\u001b[0;34m(\u001b[0m\u001b[0mkey\u001b[0m\u001b[0;34m)\u001b[0m\u001b[0;34m\u001b[0m\u001b[0;34m\u001b[0m\u001b[0m\n\u001b[0m\u001b[1;32m   2657\u001b[0m             \u001b[0;32mexcept\u001b[0m \u001b[0mKeyError\u001b[0m\u001b[0;34m:\u001b[0m\u001b[0;34m\u001b[0m\u001b[0;34m\u001b[0m\u001b[0m\n",
                        "\u001b[0;32mpandas/_libs/index.pyx\u001b[0m in \u001b[0;36mpandas._libs.index.IndexEngine.get_loc\u001b[0;34m()\u001b[0m\n",
                        "\u001b[0;32mpandas/_libs/index.pyx\u001b[0m in \u001b[0;36mpandas._libs.index.IndexEngine.get_loc\u001b[0;34m()\u001b[0m\n",
                        "\u001b[0;32mpandas/_libs/hashtable_class_helper.pxi\u001b[0m in \u001b[0;36mpandas._libs.hashtable.PyObjectHashTable.get_item\u001b[0;34m()\u001b[0m\n",
                        "\u001b[0;32mpandas/_libs/hashtable_class_helper.pxi\u001b[0m in \u001b[0;36mpandas._libs.hashtable.PyObjectHashTable.get_item\u001b[0;34m()\u001b[0m\n",
                        "\u001b[0;31mKeyError\u001b[0m: 'Latitude'",
                        "\nDuring handling of the above exception, another exception occurred:\n",
                        "\u001b[0;31mKeyError\u001b[0m                                  Traceback (most recent call last)",
                        "\u001b[0;32m<ipython-input-14-155a557a92a5>\u001b[0m in \u001b[0;36m<module>\u001b[0;34m\u001b[0m\n\u001b[1;32m      2\u001b[0m \u001b[0;34m\u001b[0m\u001b[0m\n\u001b[1;32m      3\u001b[0m \u001b[0;31m# add markers to map\u001b[0m\u001b[0;34m\u001b[0m\u001b[0;34m\u001b[0m\u001b[0;34m\u001b[0m\u001b[0m\n\u001b[0;32m----> 4\u001b[0;31m \u001b[0;32mfor\u001b[0m \u001b[0mlat\u001b[0m\u001b[0;34m,\u001b[0m \u001b[0mlng\u001b[0m\u001b[0;34m,\u001b[0m \u001b[0mlabel\u001b[0m \u001b[0;32min\u001b[0m \u001b[0mzip\u001b[0m\u001b[0;34m(\u001b[0m\u001b[0mdf\u001b[0m\u001b[0;34m[\u001b[0m\u001b[0;34m'Latitude'\u001b[0m\u001b[0;34m]\u001b[0m\u001b[0;34m,\u001b[0m \u001b[0mdf\u001b[0m\u001b[0;34m[\u001b[0m\u001b[0;34m'Longitude'\u001b[0m\u001b[0;34m]\u001b[0m\u001b[0;34m,\u001b[0m \u001b[0mdf\u001b[0m\u001b[0;34m[\u001b[0m\u001b[0;34m'Zip'\u001b[0m\u001b[0;34m]\u001b[0m\u001b[0;34m)\u001b[0m\u001b[0;34m:\u001b[0m\u001b[0;34m\u001b[0m\u001b[0;34m\u001b[0m\u001b[0m\n\u001b[0m\u001b[1;32m      5\u001b[0m     \u001b[0mlabel\u001b[0m \u001b[0;34m=\u001b[0m \u001b[0mfolium\u001b[0m\u001b[0;34m.\u001b[0m\u001b[0mPopup\u001b[0m\u001b[0;34m(\u001b[0m\u001b[0mlabel\u001b[0m\u001b[0;34m,\u001b[0m \u001b[0mparse_html\u001b[0m\u001b[0;34m=\u001b[0m\u001b[0;32mTrue\u001b[0m\u001b[0;34m)\u001b[0m\u001b[0;34m\u001b[0m\u001b[0;34m\u001b[0m\u001b[0m\n\u001b[1;32m      6\u001b[0m     folium.CircleMarker(\n",
                        "\u001b[0;32m/opt/conda/envs/Python36/lib/python3.6/site-packages/pandas/core/frame.py\u001b[0m in \u001b[0;36m__getitem__\u001b[0;34m(self, key)\u001b[0m\n\u001b[1;32m   2925\u001b[0m             \u001b[0;32mif\u001b[0m \u001b[0mself\u001b[0m\u001b[0;34m.\u001b[0m\u001b[0mcolumns\u001b[0m\u001b[0;34m.\u001b[0m\u001b[0mnlevels\u001b[0m \u001b[0;34m>\u001b[0m \u001b[0;36m1\u001b[0m\u001b[0;34m:\u001b[0m\u001b[0;34m\u001b[0m\u001b[0;34m\u001b[0m\u001b[0m\n\u001b[1;32m   2926\u001b[0m                 \u001b[0;32mreturn\u001b[0m \u001b[0mself\u001b[0m\u001b[0;34m.\u001b[0m\u001b[0m_getitem_multilevel\u001b[0m\u001b[0;34m(\u001b[0m\u001b[0mkey\u001b[0m\u001b[0;34m)\u001b[0m\u001b[0;34m\u001b[0m\u001b[0;34m\u001b[0m\u001b[0m\n\u001b[0;32m-> 2927\u001b[0;31m             \u001b[0mindexer\u001b[0m \u001b[0;34m=\u001b[0m \u001b[0mself\u001b[0m\u001b[0;34m.\u001b[0m\u001b[0mcolumns\u001b[0m\u001b[0;34m.\u001b[0m\u001b[0mget_loc\u001b[0m\u001b[0;34m(\u001b[0m\u001b[0mkey\u001b[0m\u001b[0;34m)\u001b[0m\u001b[0;34m\u001b[0m\u001b[0;34m\u001b[0m\u001b[0m\n\u001b[0m\u001b[1;32m   2928\u001b[0m             \u001b[0;32mif\u001b[0m \u001b[0mis_integer\u001b[0m\u001b[0;34m(\u001b[0m\u001b[0mindexer\u001b[0m\u001b[0;34m)\u001b[0m\u001b[0;34m:\u001b[0m\u001b[0;34m\u001b[0m\u001b[0;34m\u001b[0m\u001b[0m\n\u001b[1;32m   2929\u001b[0m                 \u001b[0mindexer\u001b[0m \u001b[0;34m=\u001b[0m \u001b[0;34m[\u001b[0m\u001b[0mindexer\u001b[0m\u001b[0;34m]\u001b[0m\u001b[0;34m\u001b[0m\u001b[0;34m\u001b[0m\u001b[0m\n",
                        "\u001b[0;32m/opt/conda/envs/Python36/lib/python3.6/site-packages/pandas/core/indexes/base.py\u001b[0m in \u001b[0;36mget_loc\u001b[0;34m(self, key, method, tolerance)\u001b[0m\n\u001b[1;32m   2656\u001b[0m                 \u001b[0;32mreturn\u001b[0m \u001b[0mself\u001b[0m\u001b[0;34m.\u001b[0m\u001b[0m_engine\u001b[0m\u001b[0;34m.\u001b[0m\u001b[0mget_loc\u001b[0m\u001b[0;34m(\u001b[0m\u001b[0mkey\u001b[0m\u001b[0;34m)\u001b[0m\u001b[0;34m\u001b[0m\u001b[0;34m\u001b[0m\u001b[0m\n\u001b[1;32m   2657\u001b[0m             \u001b[0;32mexcept\u001b[0m \u001b[0mKeyError\u001b[0m\u001b[0;34m:\u001b[0m\u001b[0;34m\u001b[0m\u001b[0;34m\u001b[0m\u001b[0m\n\u001b[0;32m-> 2658\u001b[0;31m                 \u001b[0;32mreturn\u001b[0m \u001b[0mself\u001b[0m\u001b[0;34m.\u001b[0m\u001b[0m_engine\u001b[0m\u001b[0;34m.\u001b[0m\u001b[0mget_loc\u001b[0m\u001b[0;34m(\u001b[0m\u001b[0mself\u001b[0m\u001b[0;34m.\u001b[0m\u001b[0m_maybe_cast_indexer\u001b[0m\u001b[0;34m(\u001b[0m\u001b[0mkey\u001b[0m\u001b[0;34m)\u001b[0m\u001b[0;34m)\u001b[0m\u001b[0;34m\u001b[0m\u001b[0;34m\u001b[0m\u001b[0m\n\u001b[0m\u001b[1;32m   2659\u001b[0m         \u001b[0mindexer\u001b[0m \u001b[0;34m=\u001b[0m \u001b[0mself\u001b[0m\u001b[0;34m.\u001b[0m\u001b[0mget_indexer\u001b[0m\u001b[0;34m(\u001b[0m\u001b[0;34m[\u001b[0m\u001b[0mkey\u001b[0m\u001b[0;34m]\u001b[0m\u001b[0;34m,\u001b[0m \u001b[0mmethod\u001b[0m\u001b[0;34m=\u001b[0m\u001b[0mmethod\u001b[0m\u001b[0;34m,\u001b[0m \u001b[0mtolerance\u001b[0m\u001b[0;34m=\u001b[0m\u001b[0mtolerance\u001b[0m\u001b[0;34m)\u001b[0m\u001b[0;34m\u001b[0m\u001b[0;34m\u001b[0m\u001b[0m\n\u001b[1;32m   2660\u001b[0m         \u001b[0;32mif\u001b[0m \u001b[0mindexer\u001b[0m\u001b[0;34m.\u001b[0m\u001b[0mndim\u001b[0m \u001b[0;34m>\u001b[0m \u001b[0;36m1\u001b[0m \u001b[0;32mor\u001b[0m \u001b[0mindexer\u001b[0m\u001b[0;34m.\u001b[0m\u001b[0msize\u001b[0m \u001b[0;34m>\u001b[0m \u001b[0;36m1\u001b[0m\u001b[0;34m:\u001b[0m\u001b[0;34m\u001b[0m\u001b[0;34m\u001b[0m\u001b[0m\n",
                        "\u001b[0;32mpandas/_libs/index.pyx\u001b[0m in \u001b[0;36mpandas._libs.index.IndexEngine.get_loc\u001b[0;34m()\u001b[0m\n",
                        "\u001b[0;32mpandas/_libs/index.pyx\u001b[0m in \u001b[0;36mpandas._libs.index.IndexEngine.get_loc\u001b[0;34m()\u001b[0m\n",
                        "\u001b[0;32mpandas/_libs/hashtable_class_helper.pxi\u001b[0m in \u001b[0;36mpandas._libs.hashtable.PyObjectHashTable.get_item\u001b[0;34m()\u001b[0m\n",
                        "\u001b[0;32mpandas/_libs/hashtable_class_helper.pxi\u001b[0m in \u001b[0;36mpandas._libs.hashtable.PyObjectHashTable.get_item\u001b[0;34m()\u001b[0m\n",
                        "\u001b[0;31mKeyError\u001b[0m: 'Latitude'"
                    ]
                }
            ],
            "source": "map_rockville = folium.Map(location=[latitude, longitude], zoom_start=11)\n\n# add markers to map\nfor lat, lng, label in zip(df['Latitude'], df['Longitude'], df['Zip']):\n    label = folium.Popup(label, parse_html=True)\n    folium.CircleMarker(\n        [lat, lng],\n        radius=5,\n        popup=label,\n        color='blue',\n        fill=True,\n        fill_color='#3186cc',\n        fill_opacity=0.7,\n        parse_html=False).add_to(map_manhattan)  \n    \nmap_rockville"
        },
        {
            "cell_type": "markdown",
            "metadata": {},
            "source": "Georgraphical coordinates of Rockville"
        },
        {
            "cell_type": "code",
            "execution_count": 16,
            "metadata": {},
            "outputs": [
                {
                    "name": "stdout",
                    "output_type": "stream",
                    "text": "The geograpical coordinate of Rockville are 39.0840054, -77.1527573.\n"
                }
            ],
            "source": "address = 'Rockville,MD'\n\ngeolocator = Nominatim(user_agent=\"ny_explorer\")\nlocation = geolocator.geocode(address)\nlatitude = location.latitude\nlongitude = location.longitude\nprint('The geograpical coordinate of Rockville are {}, {}.'.format(latitude, longitude))"
        },
        {
            "cell_type": "code",
            "execution_count": 4,
            "metadata": {},
            "outputs": [
                {
                    "name": "stdout",
                    "output_type": "stream",
                    "text": "Your credentails:\nCLIENT_ID: TRYKGN22ENGVHFHDAUPDY3LPCOACQOB3IABAFQSKFWCAHYNZ\nCLIENT_SECRET:CE5CDDUCH35BVFO1UYYTYOFN4UVRSO0E2Z1VFD02TT2P3XPI\n"
                }
            ],
            "source": "CLIENT_ID = 'TRYKGN22ENGVHFHDAUPDY3LPCOACQOB3IABAFQSKFWCAHYNZ' # your Foursquare ID\nCLIENT_SECRET = 'CE5CDDUCH35BVFO1UYYTYOFN4UVRSO0E2Z1VFD02TT2P3XPI' # your Foursquare Secret\nVERSION = '20200602'\nLIMIT = 30\nprint('Your credentails:')\nprint('CLIENT_ID: ' + CLIENT_ID)\nprint('CLIENT_SECRET:' + CLIENT_SECRET)"
        },
        {
            "cell_type": "markdown",
            "metadata": {},
            "source": "Finding cafes around each zip code in rockville"
        },
        {
            "cell_type": "code",
            "execution_count": 5,
            "metadata": {},
            "outputs": [
                {
                    "name": "stdout",
                    "output_type": "stream",
                    "text": "cafe .... OK!\n"
                },
                {
                    "data": {
                        "text/plain": "'https://api.foursquare.com/v2/venues/search?client_id=TRYKGN22ENGVHFHDAUPDY3LPCOACQOB3IABAFQSKFWCAHYNZ&client_secret=CE5CDDUCH35BVFO1UYYTYOFN4UVRSO0E2Z1VFD02TT2P3XPI&ll=39.0840054,-77.1527573&v=20200602&query=cafe&radius=500&limit=30'"
                    },
                    "execution_count": 5,
                    "metadata": {},
                    "output_type": "execute_result"
                }
            ],
            "source": "search_query = 'cafe'\nradius = 500\nprint(search_query + ' .... OK!')\n\nurl = 'https://api.foursquare.com/v2/venues/search?client_id={}&client_secret={}&ll={},{}&v={}&query={}&radius={}&limit={}'.format(CLIENT_ID, CLIENT_SECRET, latitude, longitude, VERSION, search_query, radius, LIMIT)\nurl"
        },
        {
            "cell_type": "code",
            "execution_count": 6,
            "metadata": {},
            "outputs": [
                {
                    "data": {
                        "text/plain": "{'meta': {'code': 200, 'requestId': '5eec2387949393001bb70394'},\n 'response': {'venues': [{'id': '4ad74d19f964a520530921e3',\n    'name': 'Lebanese Taverna Caf\u00e9',\n    'location': {'address': '115 Gibbs St Unit A',\n     'crossStreet': 'btwn E. Middle Ln. & Beall St.',\n     'lat': 39.0858230481144,\n     'lng': -77.1519049215222,\n     'labeledLatLngs': [{'label': 'display',\n       'lat': 39.0858230481144,\n       'lng': -77.1519049215222},\n      {'label': 'entrance', 'lat': 39.085612, 'lng': -77.151898}],\n     'distance': 215,\n     'postalCode': '20850',\n     'cc': 'US',\n     'city': 'Rockville',\n     'state': 'MD',\n     'country': 'United States',\n     'formattedAddress': ['115 Gibbs St Unit A (btwn E. Middle Ln. & Beall St.)',\n      'Rockville, MD 20850',\n      'United States']},\n    'categories': [{'id': '4bf58dd8d48988d115941735',\n      'name': 'Middle Eastern Restaurant',\n      'pluralName': 'Middle Eastern Restaurants',\n      'shortName': 'Middle Eastern',\n      'icon': {'prefix': 'https://ss3.4sqi.net/img/categories_v2/food/middleeastern_',\n       'suffix': '.png'},\n      'primary': True}],\n    'delivery': {'id': '348867',\n     'url': 'https://www.grubhub.com/restaurant/lebanese-taverna-115-a-gibbs-st-rockville/348867?affiliate=1131&utm_source=foursquare-affiliate-network&utm_medium=affiliate&utm_campaign=1131&utm_content=348867',\n     'provider': {'name': 'grubhub',\n      'icon': {'prefix': 'https://fastly.4sqi.net/img/general/cap/',\n       'sizes': [40, 50],\n       'name': '/delivery_provider_grubhub_20180129.png'}}},\n    'referralId': 'v-1592533918',\n    'hasPerk': False},\n   {'id': '4ae09e6af964a520fd8021e3',\n    'name': 'Upon Sisters Cafe',\n    'location': {'address': '20 Courthouse Sq',\n     'lat': 39.08435,\n     'lng': -77.152495,\n     'labeledLatLngs': [{'label': 'display',\n       'lat': 39.08435,\n       'lng': -77.152495}],\n     'distance': 44,\n     'postalCode': '20850',\n     'cc': 'US',\n     'city': 'Rockville',\n     'state': 'MD',\n     'country': 'United States',\n     'formattedAddress': ['20 Courthouse Sq',\n      'Rockville, MD 20850',\n      'United States']},\n    'categories': [{'id': '4bf58dd8d48988d16d941735',\n      'name': 'Caf\u00e9',\n      'pluralName': 'Caf\u00e9s',\n      'shortName': 'Caf\u00e9',\n      'icon': {'prefix': 'https://ss3.4sqi.net/img/categories_v2/food/cafe_',\n       'suffix': '.png'},\n      'primary': True}],\n    'referralId': 'v-1592533918',\n    'hasPerk': False},\n   {'id': '5316bd7f11d2c98505e2a183',\n    'name': 'V Cafe',\n    'location': {'address': '12 N Washington St',\n     'lat': 39.08467483520508,\n     'lng': -77.1534423828125,\n     'labeledLatLngs': [{'label': 'display',\n       'lat': 39.08467483520508,\n       'lng': -77.1534423828125}],\n     'distance': 95,\n     'postalCode': '20850',\n     'cc': 'US',\n     'city': 'Rockville',\n     'state': 'MD',\n     'country': 'United States',\n     'formattedAddress': ['12 N Washington St',\n      'Rockville, MD 20850',\n      'United States']},\n    'categories': [{'id': '4bf58dd8d48988d142941735',\n      'name': 'Asian Restaurant',\n      'pluralName': 'Asian Restaurants',\n      'shortName': 'Asian',\n      'icon': {'prefix': 'https://ss3.4sqi.net/img/categories_v2/food/asian_',\n       'suffix': '.png'},\n      'primary': True}],\n    'referralId': 'v-1592533918',\n    'hasPerk': False},\n   {'id': '4f3225ed19836c91c7bae368',\n    'name': 'Three Sisters Cafe',\n    'location': {'address': '20 Courthouse Sq',\n     'lat': 39.08451843261719,\n     'lng': -77.1517562866211,\n     'labeledLatLngs': [{'label': 'display',\n       'lat': 39.08451843261719,\n       'lng': -77.1517562866211}],\n     'distance': 103,\n     'postalCode': '20850',\n     'cc': 'US',\n     'city': 'Rockville',\n     'state': 'MD',\n     'country': 'United States',\n     'formattedAddress': ['20 Courthouse Sq',\n      'Rockville, MD 20850',\n      'United States']},\n    'categories': [{'id': '4d4b7105d754a06374d81259',\n      'name': 'Food',\n      'pluralName': 'Food',\n      'shortName': 'Food',\n      'icon': {'prefix': 'https://ss3.4sqi.net/img/categories_v2/food/default_',\n       'suffix': '.png'},\n      'primary': True}],\n    'referralId': 'v-1592533918',\n    'hasPerk': False},\n   {'id': '5964068ef0b490652790d62a',\n    'name': 'Lab Cafe',\n    'location': {'address': '101 Gibbs St',\n     'lat': 39.085205822931265,\n     'lng': -77.15179074737495,\n     'labeledLatLngs': [{'label': 'display',\n       'lat': 39.085205822931265,\n       'lng': -77.15179074737495},\n      {'label': 'entrance', 'lat': 39.085306, 'lng': -77.151894}],\n     'distance': 157,\n     'postalCode': '20850',\n     'cc': 'US',\n     'city': 'Rockville',\n     'state': 'MD',\n     'country': 'United States',\n     'formattedAddress': ['101 Gibbs St',\n      'Rockville, MD 20850',\n      'United States']},\n    'categories': [{'id': '52e81612bcbc57f1066b7a0c',\n      'name': 'Bubble Tea Shop',\n      'pluralName': 'Bubble Tea Shops',\n      'shortName': 'Bubble Tea',\n      'icon': {'prefix': 'https://ss3.4sqi.net/img/categories_v2/food/bubble_',\n       'suffix': '.png'},\n      'primary': True}],\n    'referralId': 'v-1592533918',\n    'hasPerk': False},\n   {'id': '4f664bd1d5fb7308b5bdcdf0',\n    'name': 'Vie de France Bakery Cafe- Rockville, MD',\n    'location': {'address': '39 Maryland Ave Unit A',\n     'crossStreet': 'btwn E Middle Ln. & Beall St.',\n     'lat': 39.08537476790246,\n     'lng': -77.15096205208678,\n     'labeledLatLngs': [{'label': 'display',\n       'lat': 39.08537476790246,\n       'lng': -77.15096205208678}],\n     'distance': 217,\n     'postalCode': '20850',\n     'cc': 'US',\n     'city': 'Rockville',\n     'state': 'MD',\n     'country': 'United States',\n     'formattedAddress': ['39 Maryland Ave Unit A (btwn E Middle Ln. & Beall St.)',\n      'Rockville, MD 20850',\n      'United States']},\n    'categories': [{'id': '4bf58dd8d48988d16a941735',\n      'name': 'Bakery',\n      'pluralName': 'Bakeries',\n      'shortName': 'Bakery',\n      'icon': {'prefix': 'https://ss3.4sqi.net/img/categories_v2/food/bakery_',\n       'suffix': '.png'},\n      'primary': True}],\n    'delivery': {'id': '611610',\n     'url': 'https://www.grubhub.com/restaurant/vie-de-france-bakery-cafe-39-maryland-ave-ste-a-rockville/611610?affiliate=1131&utm_source=foursquare-affiliate-network&utm_medium=affiliate&utm_campaign=1131&utm_content=611610',\n     'provider': {'name': 'grubhub',\n      'icon': {'prefix': 'https://fastly.4sqi.net/img/general/cap/',\n       'sizes': [40, 50],\n       'name': '/delivery_provider_grubhub_20180129.png'}}},\n    'venuePage': {'id': '451092806'},\n    'referralId': 'v-1592533918',\n    'hasPerk': False},\n   {'id': '56d61d9d38fab7526453a664',\n    'name': 'Miso Cafe',\n    'location': {'address': '33 Maryland Ave Unit E',\n     'lat': 39.08544645308433,\n     'lng': -77.15090088803392,\n     'labeledLatLngs': [{'label': 'display',\n       'lat': 39.08544645308433,\n       'lng': -77.15090088803392}],\n     'distance': 226,\n     'postalCode': '20850',\n     'cc': 'US',\n     'city': 'Rockville',\n     'state': 'MD',\n     'country': 'United States',\n     'formattedAddress': ['33 Maryland Ave Unit E',\n      'Rockville, MD 20850',\n      'United States']},\n    'categories': [{'id': '4bf58dd8d48988d113941735',\n      'name': 'Korean Restaurant',\n      'pluralName': 'Korean Restaurants',\n      'shortName': 'Korean',\n      'icon': {'prefix': 'https://ss3.4sqi.net/img/categories_v2/food/korean_',\n       'suffix': '.png'},\n      'primary': True}],\n    'referralId': 'v-1592533918',\n    'hasPerk': False},\n   {'id': '5aca91c1ea1e443e65e24229',\n    'name': 'Yu Noodles Cafe',\n    'location': {'address': '8 Dawson Ave',\n     'lat': 39.088685,\n     'lng': -77.154138,\n     'labeledLatLngs': [{'label': 'display',\n       'lat': 39.088685,\n       'lng': -77.154138}],\n     'distance': 534,\n     'postalCode': '20850',\n     'cc': 'US',\n     'city': 'Rockville',\n     'state': 'MD',\n     'country': 'United States',\n     'formattedAddress': ['8 Dawson Ave',\n      'Rockville, MD 20850',\n      'United States']},\n    'categories': [{'id': '4bf58dd8d48988d1d1941735',\n      'name': 'Noodle House',\n      'pluralName': 'Noodle Houses',\n      'shortName': 'Noodles',\n      'icon': {'prefix': 'https://ss3.4sqi.net/img/categories_v2/food/ramen_',\n       'suffix': '.png'},\n      'primary': True}],\n    'delivery': {'id': '1283401',\n     'url': 'https://www.grubhub.com/restaurant/yu-noodles-cafe-9-dawson-ave-rockville/1283401?affiliate=1131&utm_source=foursquare-affiliate-network&utm_medium=affiliate&utm_campaign=1131&utm_content=1283401',\n     'provider': {'name': 'grubhub',\n      'icon': {'prefix': 'https://fastly.4sqi.net/img/general/cap/',\n       'sizes': [40, 50],\n       'name': '/delivery_provider_grubhub_20180129.png'}}},\n    'referralId': 'v-1592533918',\n    'hasPerk': False},\n   {'id': '4f3273d419836c91c7d93939',\n    'name': 'Cder Cafe and D',\n    'location': {'address': '207 Lynn Manor Dr',\n     'lat': 39.079640000000005,\n     'lng': -77.152378,\n     'labeledLatLngs': [{'label': 'display',\n       'lat': 39.079640000000005,\n       'lng': -77.152378},\n      {'label': 'entrance', 'lat': 39.079724, 'lng': -77.152423}],\n     'distance': 487,\n     'postalCode': '20850',\n     'cc': 'US',\n     'city': 'Rockville',\n     'state': 'MD',\n     'country': 'United States',\n     'formattedAddress': ['207 Lynn Manor Dr',\n      'Rockville, MD 20850',\n      'United States']},\n    'categories': [{'id': '4bf58dd8d48988d1e0931735',\n      'name': 'Coffee Shop',\n      'pluralName': 'Coffee Shops',\n      'shortName': 'Coffee Shop',\n      'icon': {'prefix': 'https://ss3.4sqi.net/img/categories_v2/food/coffeeshop_',\n       'suffix': '.png'},\n      'primary': True}],\n    'referralId': 'v-1592533918',\n    'hasPerk': False},\n   {'id': '584075ff158bbb646705649d',\n    'name': \"Rick's Cafe\",\n    'location': {'address': '1 Church St',\n     'lat': 39.08315658569336,\n     'lng': -77.14619445800781,\n     'labeledLatLngs': [{'label': 'display',\n       'lat': 39.08315658569336,\n       'lng': -77.14619445800781}],\n     'distance': 574,\n     'postalCode': '20850',\n     'cc': 'US',\n     'city': 'Rockville',\n     'state': 'MD',\n     'country': 'United States',\n     'formattedAddress': ['1 Church St',\n      'Rockville, MD 20850',\n      'United States']},\n    'categories': [{'id': '4bf58dd8d48988d146941735',\n      'name': 'Deli / Bodega',\n      'pluralName': 'Delis / Bodegas',\n      'shortName': 'Deli / Bodega',\n      'icon': {'prefix': 'https://ss3.4sqi.net/img/categories_v2/food/deli_',\n       'suffix': '.png'},\n      'primary': True}],\n    'referralId': 'v-1592533918',\n    'hasPerk': False},\n   {'id': '4dde81727d8bb03c06b55a28',\n    'name': \"Rich's Cafe\",\n    'location': {'address': '1 Church St',\n     'lat': 39.083011980517675,\n     'lng': -77.14655669494131,\n     'labeledLatLngs': [{'label': 'display',\n       'lat': 39.083011980517675,\n       'lng': -77.14655669494131}],\n     'distance': 547,\n     'postalCode': '20850',\n     'cc': 'US',\n     'city': 'Rockville',\n     'state': 'MD',\n     'country': 'United States',\n     'formattedAddress': ['1 Church St',\n      'Rockville, MD 20850',\n      'United States']},\n    'categories': [{'id': '4bf58dd8d48988d146941735',\n      'name': 'Deli / Bodega',\n      'pluralName': 'Delis / Bodegas',\n      'shortName': 'Deli / Bodega',\n      'icon': {'prefix': 'https://ss3.4sqi.net/img/categories_v2/food/deli_',\n       'suffix': '.png'},\n      'primary': True}],\n    'referralId': 'v-1592533918',\n    'hasPerk': False},\n   {'id': '52668637498ef0312e08097d',\n    'name': 'MC Circuit Court Cafeteria',\n    'location': {'address': '50 Maryland Ave',\n     'lat': 39.084434509277344,\n     'lng': -77.1504898071289,\n     'labeledLatLngs': [{'label': 'display',\n       'lat': 39.084434509277344,\n       'lng': -77.1504898071289}],\n     'distance': 201,\n     'postalCode': '20850',\n     'cc': 'US',\n     'city': 'Rockville',\n     'state': 'MD',\n     'country': 'United States',\n     'formattedAddress': ['50 Maryland Ave',\n      'Rockville, MD 20850',\n      'United States']},\n    'categories': [{'id': '4bf58dd8d48988d128941735',\n      'name': 'Cafeteria',\n      'pluralName': 'Cafeterias',\n      'shortName': 'Cafeteria',\n      'icon': {'prefix': 'https://ss3.4sqi.net/img/categories_v2/education/cafeteria_',\n       'suffix': '.png'},\n      'primary': True}],\n    'referralId': 'v-1592533918',\n    'hasPerk': False},\n   {'id': '4cb731b764998cfada601ba2',\n    'name': 'Executive Office Building Cafeteria',\n    'location': {'lat': 39.08275338760179,\n     'lng': -77.14915953325608,\n     'labeledLatLngs': [{'label': 'display',\n       'lat': 39.08275338760179,\n       'lng': -77.14915953325608}],\n     'distance': 340,\n     'postalCode': '20850',\n     'cc': 'US',\n     'city': 'Rockville',\n     'state': 'MD',\n     'country': 'United States',\n     'formattedAddress': ['Rockville, MD 20850', 'United States']},\n    'categories': [{'id': '4bf58dd8d48988d128941735',\n      'name': 'Cafeteria',\n      'pluralName': 'Cafeterias',\n      'shortName': 'Cafeteria',\n      'icon': {'prefix': 'https://ss3.4sqi.net/img/categories_v2/education/cafeteria_',\n       'suffix': '.png'},\n      'primary': True}],\n    'referralId': 'v-1592533918',\n    'hasPerk': False}]}}"
                    },
                    "execution_count": 6,
                    "metadata": {},
                    "output_type": "execute_result"
                }
            ],
            "source": "results = requests.get(url).json()\nresults"
        },
        {
            "cell_type": "markdown",
            "metadata": {},
            "source": "Listing all cafes to a Dataframe"
        },
        {
            "cell_type": "code",
            "execution_count": 7,
            "metadata": {
                "scrolled": true
            },
            "outputs": [
                {
                    "data": {
                        "text/html": "<div>\n<style scoped>\n    .dataframe tbody tr th:only-of-type {\n        vertical-align: middle;\n    }\n\n    .dataframe tbody tr th {\n        vertical-align: top;\n    }\n\n    .dataframe thead th {\n        text-align: right;\n    }\n</style>\n<table border=\"1\" class=\"dataframe\">\n  <thead>\n    <tr style=\"text-align: right;\">\n      <th></th>\n      <th>categories</th>\n      <th>delivery.id</th>\n      <th>delivery.provider.icon.name</th>\n      <th>delivery.provider.icon.prefix</th>\n      <th>delivery.provider.icon.sizes</th>\n      <th>delivery.provider.name</th>\n      <th>delivery.url</th>\n      <th>hasPerk</th>\n      <th>id</th>\n      <th>location.address</th>\n      <th>location.cc</th>\n      <th>location.city</th>\n      <th>location.country</th>\n      <th>location.crossStreet</th>\n      <th>location.distance</th>\n      <th>location.formattedAddress</th>\n      <th>location.labeledLatLngs</th>\n      <th>location.lat</th>\n      <th>location.lng</th>\n      <th>location.postalCode</th>\n      <th>location.state</th>\n      <th>name</th>\n      <th>referralId</th>\n      <th>venuePage.id</th>\n    </tr>\n  </thead>\n  <tbody>\n    <tr>\n      <th>0</th>\n      <td>[{'id': '4bf58dd8d48988d115941735', 'name': 'M...</td>\n      <td>348867</td>\n      <td>/delivery_provider_grubhub_20180129.png</td>\n      <td>https://fastly.4sqi.net/img/general/cap/</td>\n      <td>[40, 50]</td>\n      <td>grubhub</td>\n      <td>https://www.grubhub.com/restaurant/lebanese-ta...</td>\n      <td>False</td>\n      <td>4ad74d19f964a520530921e3</td>\n      <td>115 Gibbs St Unit A</td>\n      <td>US</td>\n      <td>Rockville</td>\n      <td>United States</td>\n      <td>btwn E. Middle Ln. &amp; Beall St.</td>\n      <td>215</td>\n      <td>[115 Gibbs St Unit A (btwn E. Middle Ln. &amp; Bea...</td>\n      <td>[{'label': 'display', 'lat': 39.0858230481144,...</td>\n      <td>39.085823</td>\n      <td>-77.151905</td>\n      <td>20850</td>\n      <td>MD</td>\n      <td>Lebanese Taverna Caf\u00e9</td>\n      <td>v-1592533918</td>\n      <td>NaN</td>\n    </tr>\n    <tr>\n      <th>1</th>\n      <td>[{'id': '4bf58dd8d48988d16d941735', 'name': 'C...</td>\n      <td>NaN</td>\n      <td>NaN</td>\n      <td>NaN</td>\n      <td>NaN</td>\n      <td>NaN</td>\n      <td>NaN</td>\n      <td>False</td>\n      <td>4ae09e6af964a520fd8021e3</td>\n      <td>20 Courthouse Sq</td>\n      <td>US</td>\n      <td>Rockville</td>\n      <td>United States</td>\n      <td>NaN</td>\n      <td>44</td>\n      <td>[20 Courthouse Sq, Rockville, MD 20850, United...</td>\n      <td>[{'label': 'display', 'lat': 39.08435, 'lng': ...</td>\n      <td>39.084350</td>\n      <td>-77.152495</td>\n      <td>20850</td>\n      <td>MD</td>\n      <td>Upon Sisters Cafe</td>\n      <td>v-1592533918</td>\n      <td>NaN</td>\n    </tr>\n    <tr>\n      <th>2</th>\n      <td>[{'id': '4bf58dd8d48988d142941735', 'name': 'A...</td>\n      <td>NaN</td>\n      <td>NaN</td>\n      <td>NaN</td>\n      <td>NaN</td>\n      <td>NaN</td>\n      <td>NaN</td>\n      <td>False</td>\n      <td>5316bd7f11d2c98505e2a183</td>\n      <td>12 N Washington St</td>\n      <td>US</td>\n      <td>Rockville</td>\n      <td>United States</td>\n      <td>NaN</td>\n      <td>95</td>\n      <td>[12 N Washington St, Rockville, MD 20850, Unit...</td>\n      <td>[{'label': 'display', 'lat': 39.08467483520508...</td>\n      <td>39.084675</td>\n      <td>-77.153442</td>\n      <td>20850</td>\n      <td>MD</td>\n      <td>V Cafe</td>\n      <td>v-1592533918</td>\n      <td>NaN</td>\n    </tr>\n    <tr>\n      <th>3</th>\n      <td>[{'id': '4d4b7105d754a06374d81259', 'name': 'F...</td>\n      <td>NaN</td>\n      <td>NaN</td>\n      <td>NaN</td>\n      <td>NaN</td>\n      <td>NaN</td>\n      <td>NaN</td>\n      <td>False</td>\n      <td>4f3225ed19836c91c7bae368</td>\n      <td>20 Courthouse Sq</td>\n      <td>US</td>\n      <td>Rockville</td>\n      <td>United States</td>\n      <td>NaN</td>\n      <td>103</td>\n      <td>[20 Courthouse Sq, Rockville, MD 20850, United...</td>\n      <td>[{'label': 'display', 'lat': 39.08451843261719...</td>\n      <td>39.084518</td>\n      <td>-77.151756</td>\n      <td>20850</td>\n      <td>MD</td>\n      <td>Three Sisters Cafe</td>\n      <td>v-1592533918</td>\n      <td>NaN</td>\n    </tr>\n    <tr>\n      <th>4</th>\n      <td>[{'id': '52e81612bcbc57f1066b7a0c', 'name': 'B...</td>\n      <td>NaN</td>\n      <td>NaN</td>\n      <td>NaN</td>\n      <td>NaN</td>\n      <td>NaN</td>\n      <td>NaN</td>\n      <td>False</td>\n      <td>5964068ef0b490652790d62a</td>\n      <td>101 Gibbs St</td>\n      <td>US</td>\n      <td>Rockville</td>\n      <td>United States</td>\n      <td>NaN</td>\n      <td>157</td>\n      <td>[101 Gibbs St, Rockville, MD 20850, United Sta...</td>\n      <td>[{'label': 'display', 'lat': 39.08520582293126...</td>\n      <td>39.085206</td>\n      <td>-77.151791</td>\n      <td>20850</td>\n      <td>MD</td>\n      <td>Lab Cafe</td>\n      <td>v-1592533918</td>\n      <td>NaN</td>\n    </tr>\n  </tbody>\n</table>\n</div>",
                        "text/plain": "                                          categories delivery.id  \\\n0  [{'id': '4bf58dd8d48988d115941735', 'name': 'M...      348867   \n1  [{'id': '4bf58dd8d48988d16d941735', 'name': 'C...         NaN   \n2  [{'id': '4bf58dd8d48988d142941735', 'name': 'A...         NaN   \n3  [{'id': '4d4b7105d754a06374d81259', 'name': 'F...         NaN   \n4  [{'id': '52e81612bcbc57f1066b7a0c', 'name': 'B...         NaN   \n\n               delivery.provider.icon.name  \\\n0  /delivery_provider_grubhub_20180129.png   \n1                                      NaN   \n2                                      NaN   \n3                                      NaN   \n4                                      NaN   \n\n              delivery.provider.icon.prefix delivery.provider.icon.sizes  \\\n0  https://fastly.4sqi.net/img/general/cap/                     [40, 50]   \n1                                       NaN                          NaN   \n2                                       NaN                          NaN   \n3                                       NaN                          NaN   \n4                                       NaN                          NaN   \n\n  delivery.provider.name                                       delivery.url  \\\n0                grubhub  https://www.grubhub.com/restaurant/lebanese-ta...   \n1                    NaN                                                NaN   \n2                    NaN                                                NaN   \n3                    NaN                                                NaN   \n4                    NaN                                                NaN   \n\n   hasPerk                        id     location.address location.cc  \\\n0    False  4ad74d19f964a520530921e3  115 Gibbs St Unit A          US   \n1    False  4ae09e6af964a520fd8021e3     20 Courthouse Sq          US   \n2    False  5316bd7f11d2c98505e2a183   12 N Washington St          US   \n3    False  4f3225ed19836c91c7bae368     20 Courthouse Sq          US   \n4    False  5964068ef0b490652790d62a         101 Gibbs St          US   \n\n  location.city location.country            location.crossStreet  \\\n0     Rockville    United States  btwn E. Middle Ln. & Beall St.   \n1     Rockville    United States                             NaN   \n2     Rockville    United States                             NaN   \n3     Rockville    United States                             NaN   \n4     Rockville    United States                             NaN   \n\n   location.distance                          location.formattedAddress  \\\n0                215  [115 Gibbs St Unit A (btwn E. Middle Ln. & Bea...   \n1                 44  [20 Courthouse Sq, Rockville, MD 20850, United...   \n2                 95  [12 N Washington St, Rockville, MD 20850, Unit...   \n3                103  [20 Courthouse Sq, Rockville, MD 20850, United...   \n4                157  [101 Gibbs St, Rockville, MD 20850, United Sta...   \n\n                             location.labeledLatLngs  location.lat  \\\n0  [{'label': 'display', 'lat': 39.0858230481144,...     39.085823   \n1  [{'label': 'display', 'lat': 39.08435, 'lng': ...     39.084350   \n2  [{'label': 'display', 'lat': 39.08467483520508...     39.084675   \n3  [{'label': 'display', 'lat': 39.08451843261719...     39.084518   \n4  [{'label': 'display', 'lat': 39.08520582293126...     39.085206   \n\n   location.lng location.postalCode location.state                   name  \\\n0    -77.151905               20850             MD  Lebanese Taverna Caf\u00e9   \n1    -77.152495               20850             MD      Upon Sisters Cafe   \n2    -77.153442               20850             MD                 V Cafe   \n3    -77.151756               20850             MD     Three Sisters Cafe   \n4    -77.151791               20850             MD               Lab Cafe   \n\n     referralId venuePage.id  \n0  v-1592533918          NaN  \n1  v-1592533918          NaN  \n2  v-1592533918          NaN  \n3  v-1592533918          NaN  \n4  v-1592533918          NaN  "
                    },
                    "execution_count": 7,
                    "metadata": {},
                    "output_type": "execute_result"
                }
            ],
            "source": "# assign relevant part of JSON to venues\nvenues = results['response']['venues']\n\n# tranform venues into a dataframe\ndataframe = json_normalize(venues)\ndataframe.head()"
        },
        {
            "cell_type": "markdown",
            "metadata": {},
            "source": "All cafes around Rockville are displayed in a map"
        },
        {
            "cell_type": "code",
            "execution_count": 8,
            "metadata": {},
            "outputs": [
                {
                    "data": {
                        "text/html": "<div style=\"width:100%;\"><div style=\"position:relative;width:100%;height:0;padding-bottom:60%;\"><span style=\"color:#565656\">Make this Notebook Trusted to load map: File -> Trust Notebook</span><iframe src=\"about:blank\" style=\"position:absolute;width:100%;height:100%;left:0;top:0;border:none !important;\" data-html=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 onload=\"this.contentDocument.open();this.contentDocument.write(atob(this.getAttribute('data-html')));this.contentDocument.close();\" allowfullscreen webkitallowfullscreen mozallowfullscreen></iframe></div></div>",
                        "text/plain": "<folium.folium.Map at 0x7fa442111550>"
                    },
                    "execution_count": 8,
                    "metadata": {},
                    "output_type": "execute_result"
                }
            ],
            "source": "venues_map = folium.Map(location=[latitude, longitude], zoom_start=13)\nfolium.features.CircleMarker(\n    [latitude, longitude],\n    radius=10,\n    color='red',\n    popup='Rockville city',\n    fill = True,\n    fill_color = 'red',\n    fill_opacity = 0.6\n).add_to(venues_map)\nfolium.features.CircleMarker(\n    [latitude, longitude],\n    radius=10,\n    color='red',\n    popup='Rockville city',\n    fill = True,\n    fill_color = 'red',\n    fill_opacity = 0.6\n).add_to(venues_map)\nvenues_map\n\n"
        },
        {
            "cell_type": "markdown",
            "metadata": {},
            "source": "Geographical coordinates of Potomac"
        },
        {
            "cell_type": "code",
            "execution_count": 9,
            "metadata": {},
            "outputs": [
                {
                    "name": "stdout",
                    "output_type": "stream",
                    "text": "The geograpical coordinate of Potomac are 39.017936, -77.2094542.\n"
                }
            ],
            "source": "address = 'Potomac,MD'\n\ngeolocator = Nominatim(user_agent=\"ny_explorer\")\nlocation = geolocator.geocode(address)\nlatitude1 = location.latitude\nlongitude1 = location.longitude\nprint('The geograpical coordinate of Potomac are {}, {}.'.format(latitude1, longitude1))"
        },
        {
            "cell_type": "code",
            "execution_count": 10,
            "metadata": {},
            "outputs": [
                {
                    "name": "stdout",
                    "output_type": "stream",
                    "text": "cafe .... OK!\n"
                },
                {
                    "data": {
                        "text/plain": "'https://api.foursquare.com/v2/venues/search?client_id=TRYKGN22ENGVHFHDAUPDY3LPCOACQOB3IABAFQSKFWCAHYNZ&client_secret=CE5CDDUCH35BVFO1UYYTYOFN4UVRSO0E2Z1VFD02TT2P3XPI&ll=39.017936,-77.2094542&v=20200602&query=cafe&radius=500&limit=30'"
                    },
                    "execution_count": 10,
                    "metadata": {},
                    "output_type": "execute_result"
                }
            ],
            "source": "search_query = 'cafe'\nradius = 500\nprint(search_query + ' .... OK!')\n\nurl = 'https://api.foursquare.com/v2/venues/search?client_id={}&client_secret={}&ll={},{}&v={}&query={}&radius={}&limit={}'.format(CLIENT_ID, CLIENT_SECRET, latitude1, longitude1, VERSION, search_query, radius, LIMIT)\nurl"
        },
        {
            "cell_type": "markdown",
            "metadata": {},
            "source": "Cafes around Potomac"
        },
        {
            "cell_type": "code",
            "execution_count": 11,
            "metadata": {},
            "outputs": [
                {
                    "data": {
                        "text/plain": "{'meta': {'code': 200, 'requestId': '5eec22901d67cb001b6ed15b'},\n 'response': {'venues': [{'id': '4a8d7268f964a520aa0f20e3',\n    'name': 'Vie de France Bakery Cafe- Potomac Village, MD',\n    'location': {'address': '10146 River Rd',\n     'crossStreet': 'at Falls Rd.',\n     'lat': 39.017078829112045,\n     'lng': -77.20959484870639,\n     'labeledLatLngs': [{'label': 'display',\n       'lat': 39.017078829112045,\n       'lng': -77.20959484870639},\n      {'label': 'entrance', 'lat': 39.016822, 'lng': -77.208249}],\n     'distance': 96,\n     'postalCode': '20854',\n     'cc': 'US',\n     'city': 'Potomac',\n     'state': 'MD',\n     'country': 'United States',\n     'formattedAddress': ['10146 River Rd (at Falls Rd.)',\n      'Potomac, MD 20854',\n      'United States']},\n    'categories': [{'id': '4bf58dd8d48988d16a941735',\n      'name': 'Bakery',\n      'pluralName': 'Bakeries',\n      'shortName': 'Bakery',\n      'icon': {'prefix': 'https://ss3.4sqi.net/img/categories_v2/food/bakery_',\n       'suffix': '.png'},\n      'primary': True}],\n    'delivery': {'id': '611873',\n     'url': 'https://www.grubhub.com/restaurant/vie-de-france-bakery-cafe-10146-river-rd-potomac/611873?affiliate=1131&utm_source=foursquare-affiliate-network&utm_medium=affiliate&utm_campaign=1131&utm_content=611873',\n     'provider': {'name': 'grubhub',\n      'icon': {'prefix': 'https://fastly.4sqi.net/img/general/cap/',\n       'sizes': [40, 50],\n       'name': '/delivery_provider_grubhub_20180129.png'}}},\n    'venuePage': {'id': '450341193'},\n    'referralId': 'v-1592534024',\n    'hasPerk': False}]}}"
                    },
                    "execution_count": 11,
                    "metadata": {},
                    "output_type": "execute_result"
                }
            ],
            "source": "results2 = requests.get(url).json()\nresults2"
        },
        {
            "cell_type": "markdown",
            "metadata": {},
            "source": "Arrange all cafes around Potomac in to a Dataframe"
        },
        {
            "cell_type": "code",
            "execution_count": 12,
            "metadata": {},
            "outputs": [
                {
                    "data": {
                        "text/html": "<div>\n<style scoped>\n    .dataframe tbody tr th:only-of-type {\n        vertical-align: middle;\n    }\n\n    .dataframe tbody tr th {\n        vertical-align: top;\n    }\n\n    .dataframe thead th {\n        text-align: right;\n    }\n</style>\n<table border=\"1\" class=\"dataframe\">\n  <thead>\n    <tr style=\"text-align: right;\">\n      <th></th>\n      <th>categories</th>\n      <th>delivery.id</th>\n      <th>delivery.provider.icon.name</th>\n      <th>delivery.provider.icon.prefix</th>\n      <th>delivery.provider.icon.sizes</th>\n      <th>delivery.provider.name</th>\n      <th>delivery.url</th>\n      <th>hasPerk</th>\n      <th>id</th>\n      <th>location.address</th>\n      <th>location.cc</th>\n      <th>location.city</th>\n      <th>location.country</th>\n      <th>location.crossStreet</th>\n      <th>location.distance</th>\n      <th>location.formattedAddress</th>\n      <th>location.labeledLatLngs</th>\n      <th>location.lat</th>\n      <th>location.lng</th>\n      <th>location.postalCode</th>\n      <th>location.state</th>\n      <th>name</th>\n      <th>referralId</th>\n      <th>venuePage.id</th>\n    </tr>\n  </thead>\n  <tbody>\n    <tr>\n      <th>0</th>\n      <td>[{'id': '4bf58dd8d48988d115941735', 'name': 'M...</td>\n      <td>348867</td>\n      <td>/delivery_provider_grubhub_20180129.png</td>\n      <td>https://fastly.4sqi.net/img/general/cap/</td>\n      <td>[40, 50]</td>\n      <td>grubhub</td>\n      <td>https://www.grubhub.com/restaurant/lebanese-ta...</td>\n      <td>False</td>\n      <td>4ad74d19f964a520530921e3</td>\n      <td>115 Gibbs St Unit A</td>\n      <td>US</td>\n      <td>Rockville</td>\n      <td>United States</td>\n      <td>btwn E. Middle Ln. &amp; Beall St.</td>\n      <td>215</td>\n      <td>[115 Gibbs St Unit A (btwn E. Middle Ln. &amp; Bea...</td>\n      <td>[{'label': 'display', 'lat': 39.0858230481144,...</td>\n      <td>39.085823</td>\n      <td>-77.151905</td>\n      <td>20850</td>\n      <td>MD</td>\n      <td>Lebanese Taverna Caf\u00e9</td>\n      <td>v-1592533918</td>\n      <td>NaN</td>\n    </tr>\n    <tr>\n      <th>1</th>\n      <td>[{'id': '4bf58dd8d48988d16d941735', 'name': 'C...</td>\n      <td>NaN</td>\n      <td>NaN</td>\n      <td>NaN</td>\n      <td>NaN</td>\n      <td>NaN</td>\n      <td>NaN</td>\n      <td>False</td>\n      <td>4ae09e6af964a520fd8021e3</td>\n      <td>20 Courthouse Sq</td>\n      <td>US</td>\n      <td>Rockville</td>\n      <td>United States</td>\n      <td>NaN</td>\n      <td>44</td>\n      <td>[20 Courthouse Sq, Rockville, MD 20850, United...</td>\n      <td>[{'label': 'display', 'lat': 39.08435, 'lng': ...</td>\n      <td>39.084350</td>\n      <td>-77.152495</td>\n      <td>20850</td>\n      <td>MD</td>\n      <td>Upon Sisters Cafe</td>\n      <td>v-1592533918</td>\n      <td>NaN</td>\n    </tr>\n    <tr>\n      <th>2</th>\n      <td>[{'id': '4bf58dd8d48988d142941735', 'name': 'A...</td>\n      <td>NaN</td>\n      <td>NaN</td>\n      <td>NaN</td>\n      <td>NaN</td>\n      <td>NaN</td>\n      <td>NaN</td>\n      <td>False</td>\n      <td>5316bd7f11d2c98505e2a183</td>\n      <td>12 N Washington St</td>\n      <td>US</td>\n      <td>Rockville</td>\n      <td>United States</td>\n      <td>NaN</td>\n      <td>95</td>\n      <td>[12 N Washington St, Rockville, MD 20850, Unit...</td>\n      <td>[{'label': 'display', 'lat': 39.08467483520508...</td>\n      <td>39.084675</td>\n      <td>-77.153442</td>\n      <td>20850</td>\n      <td>MD</td>\n      <td>V Cafe</td>\n      <td>v-1592533918</td>\n      <td>NaN</td>\n    </tr>\n    <tr>\n      <th>3</th>\n      <td>[{'id': '4d4b7105d754a06374d81259', 'name': 'F...</td>\n      <td>NaN</td>\n      <td>NaN</td>\n      <td>NaN</td>\n      <td>NaN</td>\n      <td>NaN</td>\n      <td>NaN</td>\n      <td>False</td>\n      <td>4f3225ed19836c91c7bae368</td>\n      <td>20 Courthouse Sq</td>\n      <td>US</td>\n      <td>Rockville</td>\n      <td>United States</td>\n      <td>NaN</td>\n      <td>103</td>\n      <td>[20 Courthouse Sq, Rockville, MD 20850, United...</td>\n      <td>[{'label': 'display', 'lat': 39.08451843261719...</td>\n      <td>39.084518</td>\n      <td>-77.151756</td>\n      <td>20850</td>\n      <td>MD</td>\n      <td>Three Sisters Cafe</td>\n      <td>v-1592533918</td>\n      <td>NaN</td>\n    </tr>\n    <tr>\n      <th>4</th>\n      <td>[{'id': '52e81612bcbc57f1066b7a0c', 'name': 'B...</td>\n      <td>NaN</td>\n      <td>NaN</td>\n      <td>NaN</td>\n      <td>NaN</td>\n      <td>NaN</td>\n      <td>NaN</td>\n      <td>False</td>\n      <td>5964068ef0b490652790d62a</td>\n      <td>101 Gibbs St</td>\n      <td>US</td>\n      <td>Rockville</td>\n      <td>United States</td>\n      <td>NaN</td>\n      <td>157</td>\n      <td>[101 Gibbs St, Rockville, MD 20850, United Sta...</td>\n      <td>[{'label': 'display', 'lat': 39.08520582293126...</td>\n      <td>39.085206</td>\n      <td>-77.151791</td>\n      <td>20850</td>\n      <td>MD</td>\n      <td>Lab Cafe</td>\n      <td>v-1592533918</td>\n      <td>NaN</td>\n    </tr>\n  </tbody>\n</table>\n</div>",
                        "text/plain": "                                          categories delivery.id  \\\n0  [{'id': '4bf58dd8d48988d115941735', 'name': 'M...      348867   \n1  [{'id': '4bf58dd8d48988d16d941735', 'name': 'C...         NaN   \n2  [{'id': '4bf58dd8d48988d142941735', 'name': 'A...         NaN   \n3  [{'id': '4d4b7105d754a06374d81259', 'name': 'F...         NaN   \n4  [{'id': '52e81612bcbc57f1066b7a0c', 'name': 'B...         NaN   \n\n               delivery.provider.icon.name  \\\n0  /delivery_provider_grubhub_20180129.png   \n1                                      NaN   \n2                                      NaN   \n3                                      NaN   \n4                                      NaN   \n\n              delivery.provider.icon.prefix delivery.provider.icon.sizes  \\\n0  https://fastly.4sqi.net/img/general/cap/                     [40, 50]   \n1                                       NaN                          NaN   \n2                                       NaN                          NaN   \n3                                       NaN                          NaN   \n4                                       NaN                          NaN   \n\n  delivery.provider.name                                       delivery.url  \\\n0                grubhub  https://www.grubhub.com/restaurant/lebanese-ta...   \n1                    NaN                                                NaN   \n2                    NaN                                                NaN   \n3                    NaN                                                NaN   \n4                    NaN                                                NaN   \n\n   hasPerk                        id     location.address location.cc  \\\n0    False  4ad74d19f964a520530921e3  115 Gibbs St Unit A          US   \n1    False  4ae09e6af964a520fd8021e3     20 Courthouse Sq          US   \n2    False  5316bd7f11d2c98505e2a183   12 N Washington St          US   \n3    False  4f3225ed19836c91c7bae368     20 Courthouse Sq          US   \n4    False  5964068ef0b490652790d62a         101 Gibbs St          US   \n\n  location.city location.country            location.crossStreet  \\\n0     Rockville    United States  btwn E. Middle Ln. & Beall St.   \n1     Rockville    United States                             NaN   \n2     Rockville    United States                             NaN   \n3     Rockville    United States                             NaN   \n4     Rockville    United States                             NaN   \n\n   location.distance                          location.formattedAddress  \\\n0                215  [115 Gibbs St Unit A (btwn E. Middle Ln. & Bea...   \n1                 44  [20 Courthouse Sq, Rockville, MD 20850, United...   \n2                 95  [12 N Washington St, Rockville, MD 20850, Unit...   \n3                103  [20 Courthouse Sq, Rockville, MD 20850, United...   \n4                157  [101 Gibbs St, Rockville, MD 20850, United Sta...   \n\n                             location.labeledLatLngs  location.lat  \\\n0  [{'label': 'display', 'lat': 39.0858230481144,...     39.085823   \n1  [{'label': 'display', 'lat': 39.08435, 'lng': ...     39.084350   \n2  [{'label': 'display', 'lat': 39.08467483520508...     39.084675   \n3  [{'label': 'display', 'lat': 39.08451843261719...     39.084518   \n4  [{'label': 'display', 'lat': 39.08520582293126...     39.085206   \n\n   location.lng location.postalCode location.state                   name  \\\n0    -77.151905               20850             MD  Lebanese Taverna Caf\u00e9   \n1    -77.152495               20850             MD      Upon Sisters Cafe   \n2    -77.153442               20850             MD                 V Cafe   \n3    -77.151756               20850             MD     Three Sisters Cafe   \n4    -77.151791               20850             MD               Lab Cafe   \n\n     referralId venuePage.id  \n0  v-1592533918          NaN  \n1  v-1592533918          NaN  \n2  v-1592533918          NaN  \n3  v-1592533918          NaN  \n4  v-1592533918          NaN  "
                    },
                    "execution_count": 12,
                    "metadata": {},
                    "output_type": "execute_result"
                }
            ],
            "source": "# assign relevant part of JSON to venues\nvenues2 = results['response']['venues']\n\n# tranform venues into a dataframe\ndataframe2 = json_normalize(venues2)\ndataframe2.head()"
        },
        {
            "cell_type": "markdown",
            "metadata": {},
            "source": "Viisualize all cafes around Potomac in the map"
        },
        {
            "cell_type": "code",
            "execution_count": 13,
            "metadata": {},
            "outputs": [
                {
                    "data": {
                        "text/html": "<div style=\"width:100%;\"><div style=\"position:relative;width:100%;height:0;padding-bottom:60%;\"><span style=\"color:#565656\">Make this Notebook Trusted to load map: File -> Trust Notebook</span><iframe src=\"about:blank\" style=\"position:absolute;width:100%;height:100%;left:0;top:0;border:none !important;\" data-html=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 onload=\"this.contentDocument.open();this.contentDocument.write(atob(this.getAttribute('data-html')));this.contentDocument.close();\" allowfullscreen webkitallowfullscreen mozallowfullscreen></iframe></div></div>",
                        "text/plain": "<folium.folium.Map at 0x7fa4420bf048>"
                    },
                    "execution_count": 13,
                    "metadata": {},
                    "output_type": "execute_result"
                }
            ],
            "source": "venues_map2 = folium.Map(location=[latitude1, longitude1], zoom_start=13)\nfolium.features.CircleMarker(\n    [latitude1, longitude1],\n    radius=10,\n    color='red',\n    popup='Potomac city',\n    fill = True,\n    fill_color = 'red',\n    fill_opacity = 0.6\n).add_to(venues_map2)\nfolium.features.CircleMarker(\n    [latitude1, longitude1],\n    radius=10,\n    color='red',\n    popup='Potomac city',\n    fill = True,\n    fill_color = 'red',\n    fill_opacity = 0.6\n).add_to(venues_map2)\nvenues_map2"
        },
        {
            "cell_type": "code",
            "execution_count": null,
            "metadata": {},
            "outputs": [],
            "source": ""
        }
    ],
    "metadata": {
        "kernelspec": {
            "display_name": "Python 3.6",
            "language": "python",
            "name": "python3"
        },
        "language_info": {
            "codemirror_mode": {
                "name": "ipython",
                "version": 3
            },
            "file_extension": ".py",
            "mimetype": "text/x-python",
            "name": "python",
            "nbconvert_exporter": "python",
            "pygments_lexer": "ipython3",
            "version": "3.6.9"
        }
    },
    "nbformat": 4,
    "nbformat_minor": 1
}